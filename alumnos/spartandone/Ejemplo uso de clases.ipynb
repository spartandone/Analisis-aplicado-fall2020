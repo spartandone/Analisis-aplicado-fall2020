{
 "cells": [
  {
   "cell_type": "code",
   "execution_count": 1,
   "metadata": {},
   "outputs": [],
   "source": [
    "import numpy as np\n"
   ]
  },
  {
   "cell_type": "markdown",
   "metadata": {},
   "source": [
    "Un objeto que, dada una función, nos pueda calcular la hessiana y el gradiente de la misma"
   ]
  },
  {
   "cell_type": "code",
   "execution_count": 2,
   "metadata": {},
   "outputs": [],
   "source": [
    "class Derivadas:\n",
    "    #siempre empezar con __init__ (dos guiones)\n",
    "    def __init__(self, f, h = 1e-8): #parámetros globales de la clase. Siempre empezar con self\n",
    "        #toma h por default sin que se lo mandes, pero f no\n",
    "        self.f = f\n",
    "        self.h = h\n",
    "        \n",
    "    #def _repr_ hace que si le das print(Derivadas) te define qué mostrar\n",
    "    \n",
    "    def grad(self, x):\n",
    "        res = []\n",
    "        for i in range(len(x)):\n",
    "            xh = np.copy(x)\n",
    "            xh[i] = xh[i] + self.h\n",
    "            res.append((self.f(x) - self.f(xh))/self.h)    \n",
    "        return res\n",
    "    \n",
    "    def hess(self, x0): #la hess buena\n",
    "        n = len(x0)\n",
    "        res = np.zeros([n,n])\n",
    "        for i in range(n):\n",
    "            for j in range(i+1): #porque es simétrica, y entonces mejor res[j][i] = res[i][j]\n",
    "                aux1 = np.zeros(n)\n",
    "                aux2 = np.zeros(n)\n",
    "                #aux1 = aux2 no jala en numpy; mejor np.copy\n",
    "                aux1[i] = self.h\n",
    "                aux2[j] = self.h\n",
    "                xij = x0 + aux1 + aux2\n",
    "                xi = x0 + aux1\n",
    "                xj = x0 + aux2\n",
    "                res[i][j] = (self.f(xij) - self.f(xi) - self.f(xj) + self.f(x0))/(self.h**2)\n",
    "                res[j][i] = res[i][j]\n",
    "        return res"
   ]
  },
  {
   "cell_type": "code",
   "execution_count": 3,
   "metadata": {},
   "outputs": [],
   "source": [
    "def func(x):\n",
    "    return np.dot(x,x) #norma al cuadradp"
   ]
  },
  {
   "cell_type": "code",
   "execution_count": 4,
   "metadata": {},
   "outputs": [],
   "source": [
    "a = Derivadas(func, h = 1e-4)"
   ]
  },
  {
   "cell_type": "code",
   "execution_count": 5,
   "metadata": {},
   "outputs": [
    {
     "data": {
      "text/plain": [
       "2.0"
      ]
     },
     "execution_count": 5,
     "metadata": {},
     "output_type": "execute_result"
    }
   ],
   "source": [
    "a.f([1.0,1.0])"
   ]
  },
  {
   "cell_type": "code",
   "execution_count": 6,
   "metadata": {},
   "outputs": [
    {
     "data": {
      "text/plain": [
       "[-2.000099999999172, -2.000099999999172]"
      ]
     },
     "execution_count": 6,
     "metadata": {},
     "output_type": "execute_result"
    }
   ],
   "source": [
    "a.grad([1.0,1.0])"
   ]
  },
  {
   "cell_type": "code",
   "execution_count": 8,
   "metadata": {},
   "outputs": [
    {
     "data": {
      "text/plain": [
       "array([[1.99999999, 0.        ],\n",
       "       [0.        , 1.99999999]])"
      ]
     },
     "execution_count": 8,
     "metadata": {},
     "output_type": "execute_result"
    }
   ],
   "source": [
    "a.hess([1.0,1.0])"
   ]
  },
  {
   "cell_type": "code",
   "execution_count": null,
   "metadata": {},
   "outputs": [],
   "source": []
  }
 ],
 "metadata": {
  "kernelspec": {
   "display_name": "Python 3",
   "language": "python",
   "name": "python3"
  },
  "language_info": {
   "codemirror_mode": {
    "name": "ipython",
    "version": 3
   },
   "file_extension": ".py",
   "mimetype": "text/x-python",
   "name": "python",
   "nbconvert_exporter": "python",
   "pygments_lexer": "ipython3",
   "version": "3.8.5"
  }
 },
 "nbformat": 4,
 "nbformat_minor": 4
}
